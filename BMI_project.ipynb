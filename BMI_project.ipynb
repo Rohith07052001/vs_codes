{
  "nbformat": 4,
  "nbformat_minor": 0,
  "metadata": {
    "colab": {
      "name": "BMI project.ipynb",
      "provenance": [],
      "authorship_tag": "ABX9TyOhXKUU2bMbvxQdwGgg4gYL",
      "include_colab_link": true
    },
    "kernelspec": {
      "name": "python3",
      "display_name": "Python 3"
    },
    "language_info": {
      "name": "python"
    }
  },
  "cells": [
    {
      "cell_type": "markdown",
      "metadata": {
        "id": "view-in-github",
        "colab_type": "text"
      },
      "source": [
        "<a href=\"https://colab.research.google.com/github/Rohith07052001/vs_codes/blob/main/BMI_project.ipynb\" target=\"_parent\"><img src=\"https://colab.research.google.com/assets/colab-badge.svg\" alt=\"Open In Colab\"/></a>"
      ]
    },
    {
      "cell_type": "code",
      "metadata": {
        "colab": {
          "base_uri": "https://localhost:8080/"
        },
        "id": "A774hsy39_GB",
        "outputId": "c49f8326-3f63-4b87-b632-044474d02ca0"
      },
      "source": [
        "Name=\"Rohith\"\n",
        "weight_kg=49.6\n",
        "height_m=100\n",
        "bmi=weight_kg/(height_m**2)\n",
        "print(\"bmi:\")\n",
        "print(bmi)\n",
        "if bmi>25:\n",
        "    print(\"over weight\")\n",
        "else:\n",
        "    print(\"correct weight\")"
      ],
      "execution_count": 6,
      "outputs": [
        {
          "output_type": "stream",
          "name": "stdout",
          "text": [
            "bmi:\n",
            "0.00496\n",
            "correct weight\n"
          ]
        }
      ]
    },
    {
      "cell_type": "markdown",
      "metadata": {
        "id": "6U3drMRsLlIA"
      },
      "source": [
        "Python project used to find the BMI(BODY MASS):\n",
        "It is the measurement through which individuals are classified into the following categories: obese, overweight, normal weight and underweight. It’s the proportion of your weight in kg (kilogram) to the square of your height in m (meters)."
      ]
    }
  ]
}